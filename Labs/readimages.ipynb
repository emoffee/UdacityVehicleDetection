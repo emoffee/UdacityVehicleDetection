{
 "cells": [
  {
   "cell_type": "code",
   "execution_count": 1,
   "metadata": {
    "collapsed": false
   },
   "outputs": [],
   "source": [
    "def ReadOImgs(root):\n",
    "    import os\n",
    "    datalist=[]\n",
    "    for path, subdirs, files in os.walk(root):\n",
    "        for name in files:\n",
    "            if name.endswith('.png') or name.endswith('.JPEG'):\n",
    "                imgpath=os.path.join(path, name)\n",
    "                datalist.append(imgpath)\n",
    "    return datalist\n",
    "\n",
    "cars=ReadOImgs(\"./data/vehicles\")\n",
    "notcars=ReadOImgs(\"./data/non-vehicles\")"
   ]
  },
  {
   "cell_type": "code",
   "execution_count": 3,
   "metadata": {
    "collapsed": false
   },
   "outputs": [],
   "source": [
    "import matplotlib.image as mpimg\n",
    "car1 = mpimg.imread(cars[0])\n",
    "notcar1=mpimg.imread(notcars[0])"
   ]
  },
  {
   "cell_type": "code",
   "execution_count": 11,
   "metadata": {
    "collapsed": false
   },
   "outputs": [
    {
     "name": "stdout",
     "output_type": "stream",
     "text": [
      "<class 'numpy.ndarray'>\n",
      "[[[ 0.61176473  0.65882355  0.63921571]\n",
      "  [ 0.61176473  0.65882355  0.63921571]\n",
      "  [ 0.61176473  0.65490198  0.63529414]\n",
      "  ..., \n",
      "  [ 0.39215687  0.43921569  0.35294119]\n",
      "  [ 0.40000001  0.44313726  0.35686275]\n",
      "  [ 0.40392157  0.44313726  0.35686275]]\n",
      "\n",
      " [[ 0.61176473  0.65882355  0.63921571]\n",
      "  [ 0.61176473  0.65882355  0.63921571]\n",
      "  [ 0.61176473  0.65490198  0.63529414]\n",
      "  ..., \n",
      "  [ 0.39215687  0.43921569  0.35294119]\n",
      "  [ 0.40000001  0.44313726  0.35686275]\n",
      "  [ 0.40392157  0.44313726  0.35686275]]\n",
      "\n",
      " [[ 0.61176473  0.65490198  0.63137257]\n",
      "  [ 0.61176473  0.65490198  0.63137257]\n",
      "  [ 0.61176473  0.65098041  0.627451  ]\n",
      "  ..., \n",
      "  [ 0.39215687  0.44313726  0.35294119]\n",
      "  [ 0.40000001  0.44705883  0.36078432]\n",
      "  [ 0.40392157  0.44705883  0.36078432]]\n",
      "\n",
      " ..., \n",
      " [[ 0.48235294  0.50196081  0.4509804 ]\n",
      "  [ 0.48235294  0.50196081  0.4509804 ]\n",
      "  [ 0.48235294  0.49803922  0.44705883]\n",
      "  ..., \n",
      "  [ 0.62352943  0.62352943  0.5529412 ]\n",
      "  [ 0.62352943  0.62352943  0.54901963]\n",
      "  [ 0.62352943  0.62352943  0.54901963]]\n",
      "\n",
      " [[ 0.47843137  0.49803922  0.44705883]\n",
      "  [ 0.47843137  0.49803922  0.44705883]\n",
      "  [ 0.47843137  0.49411765  0.44313726]\n",
      "  ..., \n",
      "  [ 0.62352943  0.62352943  0.5529412 ]\n",
      "  [ 0.63137257  0.63137257  0.55686277]\n",
      "  [ 0.63137257  0.63137257  0.55686277]]\n",
      "\n",
      " [[ 0.47843137  0.49803922  0.44705883]\n",
      "  [ 0.47843137  0.49803922  0.44705883]\n",
      "  [ 0.47843137  0.49411765  0.44313726]\n",
      "  ..., \n",
      "  [ 0.62352943  0.62352943  0.54901963]\n",
      "  [ 0.63137257  0.63137257  0.55686277]\n",
      "  [ 0.63137257  0.63137257  0.55686277]]]\n"
     ]
    }
   ],
   "source": [
    "print(type(car1))\n",
    "print(car1)"
   ]
  },
  {
   "cell_type": "code",
   "execution_count": 7,
   "metadata": {
    "collapsed": false
   },
   "outputs": [
    {
     "name": "stdout",
     "output_type": "stream",
     "text": [
      "[[[254 233 216]\n",
      "  [245 238 232]\n",
      "  [196 205 212]\n",
      "  ..., \n",
      "  [ 16  35  52]\n",
      "  [ 20  37  53]\n",
      "  [ 32  48  63]]\n",
      "\n",
      " [[245 238 232]\n",
      "  [188 193 197]\n",
      "  [137 158 175]\n",
      "  ..., \n",
      "  [ 74 108 135]\n",
      "  [ 47  77 103]\n",
      "  [  4  34  60]]\n",
      "\n",
      " [[193 202 209]\n",
      "  [134 157 173]\n",
      "  [115 154 183]\n",
      "  ..., \n",
      "  [ 95 144 184]\n",
      "  [ 89 137 177]\n",
      "  [ 52  97 136]]\n",
      "\n",
      " ..., \n",
      " [[141 131 129]\n",
      "  [132 121 119]\n",
      "  [114 100  97]\n",
      "  ..., \n",
      "  [ 99  80  74]\n",
      "  [ 99  80  74]\n",
      "  [113  94  88]]\n",
      "\n",
      " [[164 154 152]\n",
      "  [133 122 120]\n",
      "  [120 106 103]\n",
      "  ..., \n",
      "  [107  88  82]\n",
      "  [109  90  84]\n",
      "  [111  92  86]]\n",
      "\n",
      " [[189 179 177]\n",
      "  [135 125 123]\n",
      "  [128 117 113]\n",
      "  ..., \n",
      "  [ 97  78  72]\n",
      "  [ 95  76  70]\n",
      "  [ 73  54  48]]]\n"
     ]
    }
   ],
   "source": [
    "testimage = mpimg.imread('./test_images/test1.jpg')\n",
    "print(testimage)"
   ]
  },
  {
   "cell_type": "code",
   "execution_count": 8,
   "metadata": {
    "collapsed": false
   },
   "outputs": [
    {
     "name": "stdout",
     "output_type": "stream",
     "text": [
      "[[[109 142 175]\n",
      "  [115 149 184]\n",
      "  [113 151 188]\n",
      "  ..., \n",
      "  [107 150 193]\n",
      "  [108 151 194]\n",
      "  [108 151 194]]\n",
      "\n",
      " [[108 143 175]\n",
      "  [115 149 184]\n",
      "  [113 151 188]\n",
      "  ..., \n",
      "  [107 150 193]\n",
      "  [108 151 194]\n",
      "  [108 151 194]]\n",
      "\n",
      " [[107 142 174]\n",
      "  [115 149 184]\n",
      "  [113 151 188]\n",
      "  ..., \n",
      "  [108 151 194]\n",
      "  [108 151 194]\n",
      "  [108 151 194]]\n",
      "\n",
      " ..., \n",
      " [[108 126 148]\n",
      "  [104 125 146]\n",
      "  [109 131 154]\n",
      "  ..., \n",
      "  [ 85  84  89]\n",
      "  [ 87  85  88]\n",
      "  [ 84  82  85]]\n",
      "\n",
      " [[115 131 154]\n",
      "  [123 141 163]\n",
      "  [127 145 167]\n",
      "  ..., \n",
      "  [108 106 111]\n",
      "  [123 121 126]\n",
      "  [121 119 122]]\n",
      "\n",
      " [[122 136 162]\n",
      "  [138 154 177]\n",
      "  [110 128 150]\n",
      "  ..., \n",
      "  [ 97  95  98]\n",
      "  [ 90  88  93]\n",
      "  [ 85  83  88]]]\n"
     ]
    }
   ],
   "source": [
    "print(notcar1)"
   ]
  },
  {
   "cell_type": "code",
   "execution_count": 12,
   "metadata": {
    "collapsed": false
   },
   "outputs": [
    {
     "name": "stdout",
     "output_type": "stream",
     "text": [
      "<class 'numpy.ndarray'>\n"
     ]
    }
   ],
   "source": [
    "import numpy as np\n",
    "notcar1 = notcar1.astype(np.float32)/255\n",
    "print(type(notcar1))"
   ]
  },
  {
   "cell_type": "code",
   "execution_count": null,
   "metadata": {
    "collapsed": true
   },
   "outputs": [],
   "source": []
  }
 ],
 "metadata": {
  "anaconda-cloud": {},
  "kernelspec": {
   "display_name": "Python [conda env:tensorflow-gpu]",
   "language": "python",
   "name": "conda-env-tensorflow-gpu-py"
  },
  "language_info": {
   "codemirror_mode": {
    "name": "ipython",
    "version": 3
   },
   "file_extension": ".py",
   "mimetype": "text/x-python",
   "name": "python",
   "nbconvert_exporter": "python",
   "pygments_lexer": "ipython3",
   "version": "3.5.3"
  },
  "widgets": {
   "state": {},
   "version": "1.1.2"
  }
 },
 "nbformat": 4,
 "nbformat_minor": 2
}
